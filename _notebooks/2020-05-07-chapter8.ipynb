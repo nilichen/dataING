{
 "cells": [
  {
   "cell_type": "markdown",
   "metadata": {},
   "source": [
    "# Statistical Rethinking Chapter 8\n",
    "> Code rewitten in Python for this chapter's practice\n",
    "- toc: true \n",
    "- badges: true\n",
    "- comments: true\n",
    "- categories: [statistical_rethinking]"
   ]
  },
  {
   "cell_type": "code",
   "execution_count": 1,
   "metadata": {},
   "outputs": [],
   "source": [
    "import numpy as np\n",
    "import pandas as pd\n",
    "import pymc3 as pm\n",
    "import matplotlib.pyplot as plt\n",
    "import seaborn as sns\n",
    "import scipy"
   ]
  },
  {
   "cell_type": "markdown",
   "metadata": {},
   "source": [
    "## 8H1 8H2"
   ]
  },
  {
   "cell_type": "code",
   "execution_count": 149,
   "metadata": {},
   "outputs": [
    {
     "data": {
      "text/html": [
       "<div>\n",
       "<style scoped>\n",
       "    .dataframe tbody tr th:only-of-type {\n",
       "        vertical-align: middle;\n",
       "    }\n",
       "\n",
       "    .dataframe tbody tr th {\n",
       "        vertical-align: top;\n",
       "    }\n",
       "\n",
       "    .dataframe thead th {\n",
       "        text-align: right;\n",
       "    }\n",
       "</style>\n",
       "<table border=\"1\" class=\"dataframe\">\n",
       "  <thead>\n",
       "    <tr style=\"text-align: right;\">\n",
       "      <th></th>\n",
       "      <th>bed</th>\n",
       "      <th>water</th>\n",
       "      <th>shade</th>\n",
       "      <th>blooms</th>\n",
       "    </tr>\n",
       "  </thead>\n",
       "  <tbody>\n",
       "    <tr>\n",
       "      <th>0</th>\n",
       "      <td>a</td>\n",
       "      <td>1</td>\n",
       "      <td>1</td>\n",
       "      <td>0.00</td>\n",
       "    </tr>\n",
       "    <tr>\n",
       "      <th>1</th>\n",
       "      <td>a</td>\n",
       "      <td>1</td>\n",
       "      <td>2</td>\n",
       "      <td>0.00</td>\n",
       "    </tr>\n",
       "    <tr>\n",
       "      <th>2</th>\n",
       "      <td>a</td>\n",
       "      <td>1</td>\n",
       "      <td>3</td>\n",
       "      <td>111.04</td>\n",
       "    </tr>\n",
       "    <tr>\n",
       "      <th>3</th>\n",
       "      <td>a</td>\n",
       "      <td>2</td>\n",
       "      <td>1</td>\n",
       "      <td>183.47</td>\n",
       "    </tr>\n",
       "    <tr>\n",
       "      <th>4</th>\n",
       "      <td>a</td>\n",
       "      <td>2</td>\n",
       "      <td>2</td>\n",
       "      <td>59.16</td>\n",
       "    </tr>\n",
       "  </tbody>\n",
       "</table>\n",
       "</div>"
      ],
      "text/plain": [
       "  bed  water  shade  blooms\n",
       "0   a      1      1    0.00\n",
       "1   a      1      2    0.00\n",
       "2   a      1      3  111.04\n",
       "3   a      2      1  183.47\n",
       "4   a      2      2   59.16"
      ]
     },
     "execution_count": 149,
     "metadata": {},
     "output_type": "execute_result"
    }
   ],
   "source": [
    "d = pd.read_csv(\n",
    "    'https://raw.githubusercontent.com/rmcelreath/rethinking/master/data/tulips.csv', sep=';')\n",
    "d.head()"
   ]
  },
  {
   "cell_type": "code",
   "execution_count": 151,
   "metadata": {},
   "outputs": [],
   "source": [
    "d['blooms_std'] = d['blooms'] / d['blooms'].max()\n",
    "d['water_cent'] = d['water'] - d['water'].mean()\n",
    "d['shade_cent'] = d['shade'] - d['shade'].mean()"
   ]
  },
  {
   "cell_type": "code",
   "execution_count": 8,
   "metadata": {},
   "outputs": [
    {
     "name": "stderr",
     "output_type": "stream",
     "text": [
      "Auto-assigning NUTS sampler...\n",
      "Initializing NUTS using jitter+adapt_diag...\n",
      "Multiprocess sampling (2 chains in 2 jobs)\n",
      "NUTS: [sigma, bWS, bS, bW, a]\n",
      "Sampling 2 chains, 0 divergences: 100%|██████████| 4000/4000 [00:02<00:00, 1550.22draws/s]\n"
     ]
    }
   ],
   "source": [
    "with pm.Model() as model_8_7:\n",
    "    a = pm.Normal('a', mu=0.5, sd=0.25)\n",
    "    bW = pm.Normal('bW', mu=0, sd=0.25)\n",
    "    bS = pm.Normal('bS', mu=0, sd=0.25)\n",
    "    bWS = pm.Normal('bWS', mu=0, sd=0.25)\n",
    "    sigma = pm.Exponential('sigma', 1)\n",
    "    mu = pm.Deterministic(\n",
    "        'mu', a + bW * d['water_cent'] + bS * d['shade_cent'] +\n",
    "        bWS * d['water_cent'] * d['shade_cent'])\n",
    "    blooms = pm.Normal('blooms', mu, sigma, observed=d.blooms_std)\n",
    "    trace_8_7 = pm.sample(1000, tune=1000)\n",
    "#     start = {'a':np.mean(d.blooms), 'bW':0, 'bS':0, 'bWS':0, 'sigma':np.std(d.blooms)}"
   ]
  },
  {
   "cell_type": "code",
   "execution_count": 11,
   "metadata": {},
   "outputs": [
    {
     "data": {
      "text/html": [
       "<div>\n",
       "<style scoped>\n",
       "    .dataframe tbody tr th:only-of-type {\n",
       "        vertical-align: middle;\n",
       "    }\n",
       "\n",
       "    .dataframe tbody tr th {\n",
       "        vertical-align: top;\n",
       "    }\n",
       "\n",
       "    .dataframe thead th {\n",
       "        text-align: right;\n",
       "    }\n",
       "</style>\n",
       "<table border=\"1\" class=\"dataframe\">\n",
       "  <thead>\n",
       "    <tr style=\"text-align: right;\">\n",
       "      <th></th>\n",
       "      <th>mean</th>\n",
       "      <th>sd</th>\n",
       "      <th>hpd_3%</th>\n",
       "      <th>hpd_97%</th>\n",
       "    </tr>\n",
       "  </thead>\n",
       "  <tbody>\n",
       "    <tr>\n",
       "      <th>a</th>\n",
       "      <td>0.358</td>\n",
       "      <td>0.028</td>\n",
       "      <td>0.307</td>\n",
       "      <td>0.412</td>\n",
       "    </tr>\n",
       "    <tr>\n",
       "      <th>bW</th>\n",
       "      <td>0.206</td>\n",
       "      <td>0.034</td>\n",
       "      <td>0.144</td>\n",
       "      <td>0.269</td>\n",
       "    </tr>\n",
       "    <tr>\n",
       "      <th>bS</th>\n",
       "      <td>-0.112</td>\n",
       "      <td>0.033</td>\n",
       "      <td>-0.171</td>\n",
       "      <td>-0.050</td>\n",
       "    </tr>\n",
       "    <tr>\n",
       "      <th>bWS</th>\n",
       "      <td>-0.143</td>\n",
       "      <td>0.042</td>\n",
       "      <td>-0.228</td>\n",
       "      <td>-0.068</td>\n",
       "    </tr>\n",
       "    <tr>\n",
       "      <th>sigma</th>\n",
       "      <td>0.143</td>\n",
       "      <td>0.022</td>\n",
       "      <td>0.105</td>\n",
       "      <td>0.184</td>\n",
       "    </tr>\n",
       "  </tbody>\n",
       "</table>\n",
       "</div>"
      ],
      "text/plain": [
       "        mean     sd  hpd_3%  hpd_97%\n",
       "a      0.358  0.028   0.307    0.412\n",
       "bW     0.206  0.034   0.144    0.269\n",
       "bS    -0.112  0.033  -0.171   -0.050\n",
       "bWS   -0.143  0.042  -0.228   -0.068\n",
       "sigma  0.143  0.022   0.105    0.184"
      ]
     },
     "execution_count": 11,
     "metadata": {},
     "output_type": "execute_result"
    }
   ],
   "source": [
    "varnames = ['a', 'bW', 'bS', 'bWS', 'sigma']\n",
    "pm.summary(trace_8_7, varnames, kind='stats').round(3)"
   ]
  },
  {
   "cell_type": "code",
   "execution_count": 19,
   "metadata": {},
   "outputs": [
    {
     "name": "stderr",
     "output_type": "stream",
     "text": [
      "Auto-assigning NUTS sampler...\n",
      "Initializing NUTS using jitter+adapt_diag...\n",
      "Multiprocess sampling (2 chains in 2 jobs)\n",
      "NUTS: [sigma, bWS, bS, bW, bB, a]\n",
      "Sampling 2 chains, 0 divergences: 100%|██████████| 4000/4000 [00:04<00:00, 899.76draws/s] \n"
     ]
    }
   ],
   "source": [
    "with pm.Model() as model_8H1:\n",
    "    a = pm.Normal('a', mu=0.5, sd=0.25)\n",
    "    bB = pm.Normal('bB', 0, 0.1, shape=d['bed'].nunique())\n",
    "    bW = pm.Normal('bW', mu=0, sd=0.25)\n",
    "    bS = pm.Normal('bS', mu=0, sd=0.25)\n",
    "    bWS = pm.Normal('bWS', mu=0, sd=0.25)\n",
    "    sigma = pm.Exponential('sigma', 1)\n",
    "    mu = pm.Deterministic(\n",
    "        'mu',\n",
    "        a + bB[d['bed'].astype('category').cat.codes.values] + bW * d['water_cent'] +\n",
    "        bS * d['shade_cent'] + bWS * d['water_cent'] * d['shade_cent'])\n",
    "    blooms = pm.Normal('blooms', mu, sigma, observed=d.blooms_std)\n",
    "    trace_8H1 = pm.sample(1000, tune=1000)"
   ]
  },
  {
   "cell_type": "code",
   "execution_count": 20,
   "metadata": {},
   "outputs": [
    {
     "data": {
      "text/html": [
       "<div>\n",
       "<style scoped>\n",
       "    .dataframe tbody tr th:only-of-type {\n",
       "        vertical-align: middle;\n",
       "    }\n",
       "\n",
       "    .dataframe tbody tr th {\n",
       "        vertical-align: top;\n",
       "    }\n",
       "\n",
       "    .dataframe thead th {\n",
       "        text-align: right;\n",
       "    }\n",
       "</style>\n",
       "<table border=\"1\" class=\"dataframe\">\n",
       "  <thead>\n",
       "    <tr style=\"text-align: right;\">\n",
       "      <th></th>\n",
       "      <th>mean</th>\n",
       "      <th>sd</th>\n",
       "      <th>hpd_3%</th>\n",
       "      <th>hpd_97%</th>\n",
       "    </tr>\n",
       "  </thead>\n",
       "  <tbody>\n",
       "    <tr>\n",
       "      <th>a</th>\n",
       "      <td>0.362</td>\n",
       "      <td>0.060</td>\n",
       "      <td>0.252</td>\n",
       "      <td>0.479</td>\n",
       "    </tr>\n",
       "    <tr>\n",
       "      <th>bB[0]</th>\n",
       "      <td>-0.076</td>\n",
       "      <td>0.063</td>\n",
       "      <td>-0.201</td>\n",
       "      <td>0.034</td>\n",
       "    </tr>\n",
       "    <tr>\n",
       "      <th>bB[1]</th>\n",
       "      <td>0.027</td>\n",
       "      <td>0.064</td>\n",
       "      <td>-0.090</td>\n",
       "      <td>0.150</td>\n",
       "    </tr>\n",
       "    <tr>\n",
       "      <th>bB[2]</th>\n",
       "      <td>0.038</td>\n",
       "      <td>0.065</td>\n",
       "      <td>-0.081</td>\n",
       "      <td>0.163</td>\n",
       "    </tr>\n",
       "    <tr>\n",
       "      <th>bW</th>\n",
       "      <td>0.206</td>\n",
       "      <td>0.031</td>\n",
       "      <td>0.144</td>\n",
       "      <td>0.262</td>\n",
       "    </tr>\n",
       "    <tr>\n",
       "      <th>bS</th>\n",
       "      <td>-0.113</td>\n",
       "      <td>0.029</td>\n",
       "      <td>-0.169</td>\n",
       "      <td>-0.057</td>\n",
       "    </tr>\n",
       "    <tr>\n",
       "      <th>bWS</th>\n",
       "      <td>-0.144</td>\n",
       "      <td>0.037</td>\n",
       "      <td>-0.210</td>\n",
       "      <td>-0.070</td>\n",
       "    </tr>\n",
       "    <tr>\n",
       "      <th>sigma</th>\n",
       "      <td>0.130</td>\n",
       "      <td>0.021</td>\n",
       "      <td>0.095</td>\n",
       "      <td>0.168</td>\n",
       "    </tr>\n",
       "  </tbody>\n",
       "</table>\n",
       "</div>"
      ],
      "text/plain": [
       "        mean     sd  hpd_3%  hpd_97%\n",
       "a      0.362  0.060   0.252    0.479\n",
       "bB[0] -0.076  0.063  -0.201    0.034\n",
       "bB[1]  0.027  0.064  -0.090    0.150\n",
       "bB[2]  0.038  0.065  -0.081    0.163\n",
       "bW     0.206  0.031   0.144    0.262\n",
       "bS    -0.113  0.029  -0.169   -0.057\n",
       "bWS   -0.144  0.037  -0.210   -0.070\n",
       "sigma  0.130  0.021   0.095    0.168"
      ]
     },
     "execution_count": 20,
     "metadata": {},
     "output_type": "execute_result"
    }
   ],
   "source": [
    "varnames = ['a', 'bB', 'bW', 'bS', 'bWS', 'sigma']\n",
    "pm.summary(trace_8H1, varnames, kind='stats').round(3)"
   ]
  },
  {
   "cell_type": "markdown",
   "metadata": {},
   "source": [
    "### Compare WAIC"
   ]
  },
  {
   "cell_type": "code",
   "execution_count": 22,
   "metadata": {},
   "outputs": [
    {
     "name": "stderr",
     "output_type": "stream",
     "text": [
      "/Users/kani/Documents/KatrinaLand/explain-the-mark-experimentation/venv/lib/python3.7/site-packages/arviz/stats/stats.py:1196: UserWarning: For one or more samples the posterior variance of the log predictive densities exceeds 0.4. This could be indication of WAIC starting to fail. \n",
      "See http://arxiv.org/abs/1507.04544 for details\n",
      "  \"For one or more samples the posterior variance of the log predictive \"\n"
     ]
    },
    {
     "data": {
      "text/html": [
       "<div>\n",
       "<style scoped>\n",
       "    .dataframe tbody tr th:only-of-type {\n",
       "        vertical-align: middle;\n",
       "    }\n",
       "\n",
       "    .dataframe tbody tr th {\n",
       "        vertical-align: top;\n",
       "    }\n",
       "\n",
       "    .dataframe thead th {\n",
       "        text-align: right;\n",
       "    }\n",
       "</style>\n",
       "<table border=\"1\" class=\"dataframe\">\n",
       "  <thead>\n",
       "    <tr style=\"text-align: right;\">\n",
       "      <th></th>\n",
       "      <th>rank</th>\n",
       "      <th>waic</th>\n",
       "      <th>p_waic</th>\n",
       "      <th>d_waic</th>\n",
       "      <th>weight</th>\n",
       "      <th>se</th>\n",
       "      <th>dse</th>\n",
       "      <th>warning</th>\n",
       "      <th>waic_scale</th>\n",
       "    </tr>\n",
       "  </thead>\n",
       "  <tbody>\n",
       "    <tr>\n",
       "      <th>with_bed</th>\n",
       "      <td>0</td>\n",
       "      <td>-28.7567</td>\n",
       "      <td>5.57318</td>\n",
       "      <td>0</td>\n",
       "      <td>0.753201</td>\n",
       "      <td>7.35082</td>\n",
       "      <td>0</td>\n",
       "      <td>True</td>\n",
       "      <td>deviance</td>\n",
       "    </tr>\n",
       "    <tr>\n",
       "      <th>without_bed</th>\n",
       "      <td>1</td>\n",
       "      <td>-25.1125</td>\n",
       "      <td>4.24554</td>\n",
       "      <td>3.6443</td>\n",
       "      <td>0.246799</td>\n",
       "      <td>6.28061</td>\n",
       "      <td>4.41158</td>\n",
       "      <td>True</td>\n",
       "      <td>deviance</td>\n",
       "    </tr>\n",
       "  </tbody>\n",
       "</table>\n",
       "</div>"
      ],
      "text/plain": [
       "            rank     waic   p_waic  d_waic    weight       se      dse  \\\n",
       "with_bed       0 -28.7567  5.57318       0  0.753201  7.35082        0   \n",
       "without_bed    1 -25.1125  4.24554  3.6443  0.246799  6.28061  4.41158   \n",
       "\n",
       "            warning waic_scale  \n",
       "with_bed       True   deviance  \n",
       "without_bed    True   deviance  "
      ]
     },
     "execution_count": 22,
     "metadata": {},
     "output_type": "execute_result"
    }
   ],
   "source": [
    "comp_df = pm.compare({'without_bed': trace_8_7, 'with_bed': trace_8H1})\n",
    "comp_df"
   ]
  },
  {
   "cell_type": "markdown",
   "metadata": {},
   "source": [
    "- value of bB indicates weak relationship as the credible interval includes zero\n",
    "- dse is 4.41 and d_waic is 3.64, which means the difference between waic between these two models is not significant"
   ]
  },
  {
   "cell_type": "markdown",
   "metadata": {},
   "source": [
    "## 8H3"
   ]
  },
  {
   "cell_type": "code",
   "execution_count": 46,
   "metadata": {},
   "outputs": [],
   "source": [
    "d = pd.read_csv('https://raw.githubusercontent.com/rmcelreath/rethinking/master/data/rugged.csv', sep=';')"
   ]
  },
  {
   "cell_type": "code",
   "execution_count": 47,
   "metadata": {},
   "outputs": [],
   "source": [
    "d = d.dropna(subset=['rgdppc_2000'])\n",
    "d['log_gdp_std'] = np.log(d['rgdppc_2000']) / np.log(d['rgdppc_2000']).mean()\n",
    "d['rugged_std'] = d['rugged'] / d['rugged'].max()"
   ]
  },
  {
   "cell_type": "code",
   "execution_count": 48,
   "metadata": {},
   "outputs": [],
   "source": [
    "dd = d[d['country'] != 'Seychelles']"
   ]
  },
  {
   "cell_type": "markdown",
   "metadata": {},
   "source": [
    "### With Seychelles"
   ]
  },
  {
   "cell_type": "code",
   "execution_count": 67,
   "metadata": {},
   "outputs": [
    {
     "name": "stderr",
     "output_type": "stream",
     "text": [
      "logp = 134.79, ||grad|| = 41.89: 100%|██████████| 21/21 [00:00<00:00, 1369.94it/s]  \n"
     ]
    },
    {
     "name": "stdout",
     "output_type": "stream",
     "text": [
      "means:  [ 1.051  0.887 -0.143  0.133  0.109]\n",
      "stds:   [0.01  0.016 0.055 0.074 0.006]\n"
     ]
    }
   ],
   "source": [
    "with pm.Model() as model_8_5:\n",
    "    a = pm.Normal('a', mu=1, sd=0.1, shape=d['cont_africa'].nunique())\n",
    "    b = pm.Normal('b', mu=0, sd=0.3, shape=d['cont_africa'].nunique())\n",
    "    sigma = pm.Exponential('sigma', 1)\n",
    "    mu = pm.Deterministic(\n",
    "        'mu', a[d['cont_africa'].values] + b[d['cont_africa'].values] *\n",
    "        (d.rugged_std - 0.215))\n",
    "    log_gdp = pm.Normal('log_gdp', mu, sigma, observed=d.log_gdp_std)\n",
    "    trace_8_5 = pm.sample(1000, tune=1000)\n",
    "    \n",
    "    mean_q = pm.find_MAP()\n",
    "    means = np.concatenate([mean_q[k].reshape(-1) for k in ['a', 'b', 'sigma']])\n",
    "    cov_q = np.linalg.inv(pm.find_hessian(mean_q, vars=[a, b, sigma]))  \n",
    "    stds = np.sqrt(np.diagonal(cov_q))\n",
    "    print('means: ', means.round(3))\n",
    "    print('stds:  ', stds.round(3))"
   ]
  },
  {
   "cell_type": "code",
   "execution_count": 69,
   "metadata": {},
   "outputs": [
    {
     "data": {
      "text/html": [
       "<div>\n",
       "<style scoped>\n",
       "    .dataframe tbody tr th:only-of-type {\n",
       "        vertical-align: middle;\n",
       "    }\n",
       "\n",
       "    .dataframe tbody tr th {\n",
       "        vertical-align: top;\n",
       "    }\n",
       "\n",
       "    .dataframe thead th {\n",
       "        text-align: right;\n",
       "    }\n",
       "</style>\n",
       "<table border=\"1\" class=\"dataframe\">\n",
       "  <thead>\n",
       "    <tr style=\"text-align: right;\">\n",
       "      <th></th>\n",
       "      <th>mean</th>\n",
       "      <th>sd</th>\n",
       "      <th>hpd_3%</th>\n",
       "      <th>hpd_97%</th>\n",
       "    </tr>\n",
       "  </thead>\n",
       "  <tbody>\n",
       "    <tr>\n",
       "      <th>a[0]</th>\n",
       "      <td>1.051</td>\n",
       "      <td>0.010</td>\n",
       "      <td>1.032</td>\n",
       "      <td>1.070</td>\n",
       "    </tr>\n",
       "    <tr>\n",
       "      <th>a[1]</th>\n",
       "      <td>0.887</td>\n",
       "      <td>0.016</td>\n",
       "      <td>0.858</td>\n",
       "      <td>0.917</td>\n",
       "    </tr>\n",
       "    <tr>\n",
       "      <th>b[0]</th>\n",
       "      <td>-0.142</td>\n",
       "      <td>0.056</td>\n",
       "      <td>-0.243</td>\n",
       "      <td>-0.038</td>\n",
       "    </tr>\n",
       "    <tr>\n",
       "      <th>b[1]</th>\n",
       "      <td>0.131</td>\n",
       "      <td>0.079</td>\n",
       "      <td>-0.018</td>\n",
       "      <td>0.275</td>\n",
       "    </tr>\n",
       "    <tr>\n",
       "      <th>sigma</th>\n",
       "      <td>0.112</td>\n",
       "      <td>0.006</td>\n",
       "      <td>0.099</td>\n",
       "      <td>0.123</td>\n",
       "    </tr>\n",
       "  </tbody>\n",
       "</table>\n",
       "</div>"
      ],
      "text/plain": [
       "        mean     sd  hpd_3%  hpd_97%\n",
       "a[0]   1.051  0.010   1.032    1.070\n",
       "a[1]   0.887  0.016   0.858    0.917\n",
       "b[0]  -0.142  0.056  -0.243   -0.038\n",
       "b[1]   0.131  0.079  -0.018    0.275\n",
       "sigma  0.112  0.006   0.099    0.123"
      ]
     },
     "execution_count": 69,
     "metadata": {},
     "output_type": "execute_result"
    }
   ],
   "source": [
    "varnames = ['a', 'b', 'sigma']\n",
    "pm.summary(trace_8_5, varnames, kind='stats').round(3)"
   ]
  },
  {
   "cell_type": "code",
   "execution_count": 84,
   "metadata": {},
   "outputs": [],
   "source": [
    "d_a = d[d['cont_africa']==1]\n",
    "d_na = d[d['cont_africa']==0]\n",
    "dd_a = dd[dd['cont_africa']==1]\n",
    "dd_na = dd[dd['cont_africa']==0]"
   ]
  },
  {
   "cell_type": "code",
   "execution_count": 95,
   "metadata": {},
   "outputs": [],
   "source": [
    "rugged_seq = np.linspace(-0.1, 1.1, 30)\n",
    "\n",
    "mu_a = np.apply_along_axis(\n",
    "    lambda x: trace_8_5['a'][:, 1] + trace_8_5['b'][:, 1] * x, \n",
    "    axis=1, arr=rugged_seq[:, np.newaxis])\n",
    "mu_mean_a = mu_a.mean(axis=1)\n",
    "mu_PI_a = np.quantile(mu_a, [0.055, 0.945], axis=1)\n",
    "\n",
    "mu_na = np.apply_along_axis(\n",
    "    lambda x: trace_8_5['a'][:, 0] + trace_8_5['b'][:, 0] * x, \n",
    "    axis=1, arr=rugged_seq[:, np.newaxis])\n",
    "mu_mean_na = mu_na.mean(axis=1)\n",
    "mu_PI_na = np.quantile(mu_na, [0.055, 0.945], axis=1)"
   ]
  },
  {
   "cell_type": "code",
   "execution_count": 96,
   "metadata": {},
   "outputs": [
    {
     "data": {
      "image/png": "[encoded data removed]",
      "text/plain": [
       "<Figure size 576x216 with 2 Axes>"
      ]
     },
     "metadata": {
      "needs_background": "light"
     },
     "output_type": "display_data"
    }
   ],
   "source": [
    "f, (ax1, ax2) = plt.subplots(1, 2, sharey=True, figsize=(8,3))\n",
    "ax1.plot(d_a['rugged_std'], d_a['log_gdp_std'], 'C0o')\n",
    "ax1.plot(rugged_seq, mu_mean_a, 'C0')\n",
    "ax1.fill_between(rugged_seq, mu_PI_a[0], mu_PI_a[1], color='C0', alpha=0.5)\n",
    "ax1.set_title('African Nations')\n",
    "ax1.set_ylabel('log GDP year 2000', fontsize=14);\n",
    "ax1.set_xlabel('Terrain Ruggedness Index', fontsize=14)\n",
    "               \n",
    "ax2.plot(d_na['rugged_std'], d_na['log_gdp_std'], 'ko')\n",
    "ax2.plot(rugged_seq, mu_mean_na, 'k')\n",
    "ax2.fill_between(rugged_seq, mu_PI_na[0], mu_PI_na[1], color='k', alpha=0.5)\n",
    "ax2.set_title('Non-African Nations')\n",
    "ax2.set_ylabel('log GDP year 2000', fontsize=14)\n",
    "ax2.set_xlabel('Terrain Ruggedness Index', fontsize=14);"
   ]
  },
  {
   "cell_type": "markdown",
   "metadata": {},
   "source": [
    "### Without Seychelles"
   ]
  },
  {
   "cell_type": "code",
   "execution_count": 70,
   "metadata": {},
   "outputs": [
    {
     "name": "stderr",
     "output_type": "stream",
     "text": [
      "Auto-assigning NUTS sampler...\n",
      "Initializing NUTS using jitter+adapt_diag...\n",
      "Multiprocess sampling (2 chains in 2 jobs)\n",
      "NUTS: [sigma, b, a]\n",
      "Sampling 2 chains, 0 divergences: 100%|██████████| 4000/4000 [00:03<00:00, 1218.02draws/s]\n",
      "logp = 137.53, ||grad|| = 4.3166: 100%|██████████| 26/26 [00:00<00:00, 1707.62it/s]  \n"
     ]
    },
    {
     "name": "stdout",
     "output_type": "stream",
     "text": [
      "means:  [ 1.051  0.88  -0.143  0.068  0.109]\n",
      "stds:   [0.01  0.016 0.054 0.081 0.006]\n"
     ]
    }
   ],
   "source": [
    "with pm.Model() as model_8H3:\n",
    "    a = pm.Normal('a', mu=1, sd=0.1, shape=dd['cont_africa'].nunique())\n",
    "    b = pm.Normal('b', mu=0, sd=0.3, shape=dd['cont_africa'].nunique())\n",
    "    sigma = pm.Exponential('sigma', 1)\n",
    "    mu = pm.Deterministic(\n",
    "        'mu', a[dd['cont_africa'].values] + b[dd['cont_africa'].values] *\n",
    "        (dd.rugged_std - 0.215))\n",
    "    log_gdp = pm.Normal('log_gdp', mu, sigma, observed=dd.log_gdp_std)\n",
    "    trace_8H3 = pm.sample(1000, tune=1000)\n",
    "    \n",
    "    mean_q = pm.find_MAP()\n",
    "    means = np.concatenate([mean_q[k].reshape(-1) for k in ['a', 'b', 'sigma']])\n",
    "    cov_q = np.linalg.inv(pm.find_hessian(mean_q, vars=[a, b, sigma]))  \n",
    "    stds = np.sqrt(np.diagonal(cov_q))\n",
    "    print('means: ', means.round(3))\n",
    "    print('stds:  ', stds.round(3))"
   ]
  },
  {
   "cell_type": "code",
   "execution_count": 71,
   "metadata": {},
   "outputs": [
    {
     "data": {
      "text/html": [
       "<div>\n",
       "<style scoped>\n",
       "    .dataframe tbody tr th:only-of-type {\n",
       "        vertical-align: middle;\n",
       "    }\n",
       "\n",
       "    .dataframe tbody tr th {\n",
       "        vertical-align: top;\n",
       "    }\n",
       "\n",
       "    .dataframe thead th {\n",
       "        text-align: right;\n",
       "    }\n",
       "</style>\n",
       "<table border=\"1\" class=\"dataframe\">\n",
       "  <thead>\n",
       "    <tr style=\"text-align: right;\">\n",
       "      <th></th>\n",
       "      <th>mean</th>\n",
       "      <th>sd</th>\n",
       "      <th>hpd_3%</th>\n",
       "      <th>hpd_97%</th>\n",
       "    </tr>\n",
       "  </thead>\n",
       "  <tbody>\n",
       "    <tr>\n",
       "      <th>a[0]</th>\n",
       "      <td>1.051</td>\n",
       "      <td>0.010</td>\n",
       "      <td>1.034</td>\n",
       "      <td>1.069</td>\n",
       "    </tr>\n",
       "    <tr>\n",
       "      <th>a[1]</th>\n",
       "      <td>0.880</td>\n",
       "      <td>0.017</td>\n",
       "      <td>0.849</td>\n",
       "      <td>0.912</td>\n",
       "    </tr>\n",
       "    <tr>\n",
       "      <th>b[0]</th>\n",
       "      <td>-0.142</td>\n",
       "      <td>0.055</td>\n",
       "      <td>-0.243</td>\n",
       "      <td>-0.040</td>\n",
       "    </tr>\n",
       "    <tr>\n",
       "      <th>b[1]</th>\n",
       "      <td>0.070</td>\n",
       "      <td>0.083</td>\n",
       "      <td>-0.094</td>\n",
       "      <td>0.216</td>\n",
       "    </tr>\n",
       "    <tr>\n",
       "      <th>sigma</th>\n",
       "      <td>0.111</td>\n",
       "      <td>0.006</td>\n",
       "      <td>0.101</td>\n",
       "      <td>0.123</td>\n",
       "    </tr>\n",
       "  </tbody>\n",
       "</table>\n",
       "</div>"
      ],
      "text/plain": [
       "        mean     sd  hpd_3%  hpd_97%\n",
       "a[0]   1.051  0.010   1.034    1.069\n",
       "a[1]   0.880  0.017   0.849    0.912\n",
       "b[0]  -0.142  0.055  -0.243   -0.040\n",
       "b[1]   0.070  0.083  -0.094    0.216\n",
       "sigma  0.111  0.006   0.101    0.123"
      ]
     },
     "execution_count": 71,
     "metadata": {},
     "output_type": "execute_result"
    }
   ],
   "source": [
    "varnames = ['a', 'b', 'sigma']\n",
    "pm.summary(trace_8H3, varnames, kind='stats').round(3)"
   ]
  },
  {
   "cell_type": "code",
   "execution_count": 97,
   "metadata": {},
   "outputs": [],
   "source": [
    "rugged_seq = np.linspace(-0.1, 1.1, 30)\n",
    "\n",
    "mu_a = np.apply_along_axis(\n",
    "    lambda x: trace_8H3['a'][:, 1] + trace_8H3['b'][:, 1] * x, \n",
    "    axis=1, arr=rugged_seq[:, np.newaxis])\n",
    "mu_mean_a = mu_a.mean(axis=1)\n",
    "mu_PI_a = np.quantile(mu_a, [0.055, 0.945], axis=1)\n",
    "\n",
    "mu_na = np.apply_along_axis(\n",
    "    lambda x: trace_8H3['a'][:, 0] + trace_8H3['b'][:, 0] * x, \n",
    "    axis=1, arr=rugged_seq[:, np.newaxis])\n",
    "mu_mean_na = mu_na.mean(axis=1)\n",
    "mu_PI_na = np.quantile(mu_na, [0.055, 0.945], axis=1)"
   ]
  },
  {
   "cell_type": "code",
   "execution_count": 98,
   "metadata": {},
   "outputs": [
    {
     "data": {
      "image/png": "[encoded data removed]",
      "text/plain": [
       "<Figure size 576x216 with 2 Axes>"
      ]
     },
     "metadata": {
      "needs_background": "light"
     },
     "output_type": "display_data"
    }
   ],
   "source": [
    "f, (ax1, ax2) = plt.subplots(1, 2, sharey=True, figsize=(8,3))\n",
    "ax1.plot(dd_a['rugged_std'], dd_a['log_gdp_std'], 'C0o')\n",
    "ax1.plot(rugged_seq, mu_mean_a, 'C0')\n",
    "ax1.fill_between(rugged_seq, mu_PI_a[0], mu_PI_a[1], color='C0', alpha=0.5)\n",
    "ax1.set_title('African Nations')\n",
    "ax1.set_ylabel('log GDP year 2000', fontsize=14);\n",
    "ax1.set_xlabel('Terrain Ruggedness Index', fontsize=14)\n",
    "               \n",
    "ax2.plot(dd_na['rugged_std'], dd_na['log_gdp_std'], 'ko')\n",
    "ax2.plot(rugged_seq, mu_mean_na, 'k')\n",
    "ax2.fill_between(rugged_seq, mu_PI_na[0], mu_PI_na[1], color='k', alpha=0.5)\n",
    "ax2.set_title('Non-African Nations')\n",
    "ax2.set_ylabel('log GDP year 2000', fontsize=14)\n",
    "ax2.set_xlabel('Terrain Ruggedness Index', fontsize=14);"
   ]
  },
  {
   "cell_type": "markdown",
   "metadata": {},
   "source": [
    "#### Compare WAIC "
   ]
  },
  {
   "cell_type": "code",
   "execution_count": 103,
   "metadata": {},
   "outputs": [
    {
     "name": "stderr",
     "output_type": "stream",
     "text": [
      "Auto-assigning NUTS sampler...\n",
      "Initializing NUTS using jitter+adapt_diag...\n",
      "Multiprocess sampling (2 chains in 2 jobs)\n",
      "NUTS: [sigma, b, a]\n",
      "Sampling 2 chains, 0 divergences: 100%|██████████| 4000/4000 [00:03<00:00, 1309.32draws/s]\n"
     ]
    }
   ],
   "source": [
    "with pm.Model() as model_1:\n",
    "    a = pm.Normal('a', mu=1, sd=0.1)\n",
    "    b = pm.Normal('b', mu=0, sd=0.3)\n",
    "    sigma = pm.Exponential('sigma', 1)\n",
    "    mu = pm.Deterministic('mu', a + b * (dd.rugged_std - 0.215))\n",
    "    log_gdp = pm.Normal('log_gdp', mu, sigma, observed=dd.log_gdp_std)\n",
    "    trace_1 = pm.sample(1000, tune=1000)"
   ]
  },
  {
   "cell_type": "code",
   "execution_count": 105,
   "metadata": {},
   "outputs": [
    {
     "name": "stderr",
     "output_type": "stream",
     "text": [
      "Auto-assigning NUTS sampler...\n",
      "Initializing NUTS using jitter+adapt_diag...\n",
      "Multiprocess sampling (2 chains in 2 jobs)\n",
      "NUTS: [sigma, b, a]\n",
      "Sampling 2 chains, 0 divergences: 100%|██████████| 4000/4000 [00:02<00:00, 1746.67draws/s]\n"
     ]
    }
   ],
   "source": [
    "with pm.Model() as model_2:\n",
    "    a = pm.Normal('a', mu=1, sd=0.1, shape=dd['cont_africa'].nunique())\n",
    "    b = pm.Normal('b', mu=0, sd=0.3)\n",
    "    sigma = pm.Exponential('sigma', 1)\n",
    "    mu = pm.Deterministic(\n",
    "        'mu', a[dd['cont_africa'].values] + b * (dd.rugged_std - 0.215))\n",
    "    log_gdp = pm.Normal('log_gdp', mu, sigma, observed=dd.log_gdp_std)\n",
    "    trace_2 = pm.sample(1000, tune=1000)"
   ]
  },
  {
   "cell_type": "code",
   "execution_count": 106,
   "metadata": {},
   "outputs": [
    {
     "name": "stderr",
     "output_type": "stream",
     "text": [
      "/Users/kani/Documents/KatrinaLand/explain-the-mark-experimentation/venv/lib/python3.7/site-packages/arviz/stats/stats.py:1196: UserWarning: For one or more samples the posterior variance of the log predictive densities exceeds 0.4. This could be indication of WAIC starting to fail. \n",
      "See http://arxiv.org/abs/1507.04544 for details\n",
      "  \"For one or more samples the posterior variance of the log predictive \"\n"
     ]
    },
    {
     "data": {
      "text/html": [
       "<div>\n",
       "<style scoped>\n",
       "    .dataframe tbody tr th:only-of-type {\n",
       "        vertical-align: middle;\n",
       "    }\n",
       "\n",
       "    .dataframe tbody tr th {\n",
       "        vertical-align: top;\n",
       "    }\n",
       "\n",
       "    .dataframe thead th {\n",
       "        text-align: right;\n",
       "    }\n",
       "</style>\n",
       "<table border=\"1\" class=\"dataframe\">\n",
       "  <thead>\n",
       "    <tr style=\"text-align: right;\">\n",
       "      <th></th>\n",
       "      <th>rank</th>\n",
       "      <th>waic</th>\n",
       "      <th>p_waic</th>\n",
       "      <th>d_waic</th>\n",
       "      <th>weight</th>\n",
       "      <th>se</th>\n",
       "      <th>dse</th>\n",
       "      <th>warning</th>\n",
       "      <th>waic_scale</th>\n",
       "    </tr>\n",
       "  </thead>\n",
       "  <tbody>\n",
       "    <tr>\n",
       "      <th>model3</th>\n",
       "      <td>0</td>\n",
       "      <td>-261.262</td>\n",
       "      <td>4.238</td>\n",
       "      <td>0</td>\n",
       "      <td>0.756017</td>\n",
       "      <td>12.9644</td>\n",
       "      <td>0</td>\n",
       "      <td>True</td>\n",
       "      <td>deviance</td>\n",
       "    </tr>\n",
       "    <tr>\n",
       "      <th>model2</th>\n",
       "      <td>1</td>\n",
       "      <td>-257.868</td>\n",
       "      <td>3.84395</td>\n",
       "      <td>3.39383</td>\n",
       "      <td>0.243983</td>\n",
       "      <td>13.6338</td>\n",
       "      <td>3.56239</td>\n",
       "      <td>False</td>\n",
       "      <td>deviance</td>\n",
       "    </tr>\n",
       "    <tr>\n",
       "      <th>model1</th>\n",
       "      <td>2</td>\n",
       "      <td>-188.036</td>\n",
       "      <td>2.53228</td>\n",
       "      <td>73.226</td>\n",
       "      <td>4.33919e-09</td>\n",
       "      <td>14.3406</td>\n",
       "      <td>14.9205</td>\n",
       "      <td>False</td>\n",
       "      <td>deviance</td>\n",
       "    </tr>\n",
       "  </tbody>\n",
       "</table>\n",
       "</div>"
      ],
      "text/plain": [
       "       rank     waic   p_waic   d_waic       weight       se      dse warning  \\\n",
       "model3    0 -261.262    4.238        0     0.756017  12.9644        0    True   \n",
       "model2    1 -257.868  3.84395  3.39383     0.243983  13.6338  3.56239   False   \n",
       "model1    2 -188.036  2.53228   73.226  4.33919e-09  14.3406  14.9205   False   \n",
       "\n",
       "       waic_scale  \n",
       "model3   deviance  \n",
       "model2   deviance  \n",
       "model1   deviance  "
      ]
     },
     "execution_count": 106,
     "metadata": {},
     "output_type": "execute_result"
    }
   ],
   "source": [
    "comp_df = pm.compare({'model1': trace_1, 'model2': trace_2, 'model3': trace_8H3})\n",
    "comp_df"
   ]
  },
  {
   "cell_type": "markdown",
   "metadata": {},
   "source": [
    "#### Weighted prediction"
   ]
  },
  {
   "cell_type": "code",
   "execution_count": 111,
   "metadata": {},
   "outputs": [],
   "source": [
    "rugged_seq = np.linspace(-0.1, 1.1, 30)\n",
    "\n",
    "mu_a = np.apply_along_axis(\n",
    "    lambda x: comp_df.weight[0] *\n",
    "    (trace_8H3['a'][:, 1] + trace_8H3['b'][:, 1] * x) + comp_df.weight[1] *\n",
    "    (trace_2['a'][:, 1] + trace_2['b'] * x) + comp_df.weight[2] *\n",
    "    (trace_1['a'] + trace_1['b'] * x),\n",
    "    axis=1,\n",
    "    arr=rugged_seq[:, np.newaxis])\n",
    "mu_mean_a = mu_a.mean(axis=1)\n",
    "mu_PI_a = np.quantile(mu_a, [0.055, 0.945], axis=1)\n",
    "\n",
    "mu_na = np.apply_along_axis(\n",
    "    lambda x: comp_df.weight[0] *\n",
    "    (trace_8H3['a'][:, 0] + trace_8H3['b'][:, 0] * x) + comp_df.weight[1] *\n",
    "    (trace_2['a'][:, 0] + trace_2['b'] * x) + comp_df.weight[2] *\n",
    "    (trace_1['a'] + trace_1['b'] * x),\n",
    "    axis=1,\n",
    "    arr=rugged_seq[:, np.newaxis])\n",
    "mu_mean_na = mu_na.mean(axis=1)\n",
    "mu_PI_na = np.quantile(mu_na, [0.055, 0.945], axis=1)"
   ]
  },
  {
   "cell_type": "code",
   "execution_count": 112,
   "metadata": {},
   "outputs": [
    {
     "data": {
      "image/png": "[encoded data removed]",
      "text/plain": [
       "<Figure size 576x216 with 2 Axes>"
      ]
     },
     "metadata": {
      "needs_background": "light"
     },
     "output_type": "display_data"
    }
   ],
   "source": [
    "f, (ax1, ax2) = plt.subplots(1, 2, sharey=True, figsize=(8,3))\n",
    "ax1.plot(dd_a['rugged_std'], dd_a['log_gdp_std'], 'C0o')\n",
    "ax1.plot(rugged_seq, mu_mean_a, 'C0')\n",
    "ax1.fill_between(rugged_seq, mu_PI_a[0], mu_PI_a[1], color='C0', alpha=0.5)\n",
    "ax1.set_title('African Nations')\n",
    "ax1.set_ylabel('log GDP year 2000', fontsize=14);\n",
    "ax1.set_xlabel('Terrain Ruggedness Index', fontsize=14)\n",
    "               \n",
    "ax2.plot(dd_na['rugged_std'], dd_na['log_gdp_std'], 'ko')\n",
    "ax2.plot(rugged_seq, mu_mean_na, 'k')\n",
    "ax2.fill_between(rugged_seq, mu_PI_na[0], mu_PI_na[1], color='k', alpha=0.5)\n",
    "ax2.set_title('Non-African Nations')\n",
    "ax2.set_ylabel('log GDP year 2000', fontsize=14)\n",
    "ax2.set_xlabel('Terrain Ruggedness Index', fontsize=14);"
   ]
  },
  {
   "cell_type": "markdown",
   "metadata": {},
   "source": [
    "## 8H4"
   ]
  },
  {
   "cell_type": "code",
   "execution_count": 160,
   "metadata": {},
   "outputs": [],
   "source": [
    "d = pd.read_csv('https://raw.githubusercontent.com/rmcelreath/rethinking/master/data/nettle.csv', sep=';')"
   ]
  },
  {
   "cell_type": "code",
   "execution_count": 161,
   "metadata": {},
   "outputs": [],
   "source": [
    "d['lang.per.cap.log'] = np.log(d['num.lang'] / d['k.pop'])\n",
    "d['lang.per.cap.log.cent'] = d['lang.per.cap.log'] / d['lang.per.cap.log'].mean()\n",
    "\n",
    "d['area.log'] = np.log(d['area'])\n",
    "d['area.log.cent'] = (d['area.log'] - d['area.log'].min()) / (\n",
    "    d['area.log'].max() - d['area.log'].min())\n",
    "d['area.log.cent'] = d['area.log.cent'] - d['area.log.cent'].mean()\n",
    "\n",
    "d['mean.growing.season.cent'] = (\n",
    "    d['mean.growing.season'] - d['mean.growing.season'].min()) / (\n",
    "        d['mean.growing.season'].max() - d['mean.growing.season'].min())\n",
    "d['mean.growing.season.cent'] = d['mean.growing.season.cent'] - d['mean.growing.season.cent'].mean()\n",
    "\n",
    "d['sd.growing.season.cent'] = (\n",
    "    d['sd.growing.season'] - d['sd.growing.season'].min()) / (\n",
    "        d['sd.growing.season'].max() - d['sd.growing.season'].min())\n",
    "d['sd.growing.season.cent'] = d['sd.growing.season.cent'] - d['sd.growing.season.cent'].mean()"
   ]
  },
  {
   "cell_type": "code",
   "execution_count": 163,
   "metadata": {},
   "outputs": [
    {
     "name": "stderr",
     "output_type": "stream",
     "text": [
      "Auto-assigning NUTS sampler...\n",
      "Initializing NUTS using jitter+adapt_diag...\n",
      "Multiprocess sampling (2 chains in 2 jobs)\n",
      "NUTS: [sigma, bM, bA, a]\n",
      "Sampling 2 chains, 0 divergences: 100%|██████████| 4000/4000 [00:03<00:00, 1285.49draws/s]\n"
     ]
    }
   ],
   "source": [
    "with pm.Model() as model_1:\n",
    "    a = pm.Normal('a', mu=1, sd=0.1)\n",
    "    bA = pm.Normal('bA', mu=0, sd=0.3)\n",
    "    bM = pm.Normal('bM', mu=0, sd=0.3)\n",
    "    sigma = pm.Exponential('sigma', 1)\n",
    "    mu = pm.Deterministic(\n",
    "        'mu', a + bA * d['area.log.cent'] + bM * d['mean.growing.season.cent'])\n",
    "    y = pm.Normal('y', mu, sigma, observed=d['lang.per.cap.log.cent'])\n",
    "    trace_1 = pm.sample(1000, tune=1000)"
   ]
  },
  {
   "cell_type": "code",
   "execution_count": 164,
   "metadata": {},
   "outputs": [
    {
     "data": {
      "text/html": [
       "<div>\n",
       "<style scoped>\n",
       "    .dataframe tbody tr th:only-of-type {\n",
       "        vertical-align: middle;\n",
       "    }\n",
       "\n",
       "    .dataframe tbody tr th {\n",
       "        vertical-align: top;\n",
       "    }\n",
       "\n",
       "    .dataframe thead th {\n",
       "        text-align: right;\n",
       "    }\n",
       "</style>\n",
       "<table border=\"1\" class=\"dataframe\">\n",
       "  <thead>\n",
       "    <tr style=\"text-align: right;\">\n",
       "      <th></th>\n",
       "      <th>mean</th>\n",
       "      <th>sd</th>\n",
       "      <th>hpd_3%</th>\n",
       "      <th>hpd_97%</th>\n",
       "    </tr>\n",
       "  </thead>\n",
       "  <tbody>\n",
       "    <tr>\n",
       "      <th>a</th>\n",
       "      <td>1.000</td>\n",
       "      <td>0.029</td>\n",
       "      <td>0.942</td>\n",
       "      <td>1.054</td>\n",
       "    </tr>\n",
       "    <tr>\n",
       "      <th>bA</th>\n",
       "      <td>0.207</td>\n",
       "      <td>0.146</td>\n",
       "      <td>-0.087</td>\n",
       "      <td>0.469</td>\n",
       "    </tr>\n",
       "    <tr>\n",
       "      <th>bM</th>\n",
       "      <td>-0.283</td>\n",
       "      <td>0.117</td>\n",
       "      <td>-0.488</td>\n",
       "      <td>-0.044</td>\n",
       "    </tr>\n",
       "  </tbody>\n",
       "</table>\n",
       "</div>"
      ],
      "text/plain": [
       "     mean     sd  hpd_3%  hpd_97%\n",
       "a   1.000  0.029   0.942    1.054\n",
       "bA  0.207  0.146  -0.087    0.469\n",
       "bM -0.283  0.117  -0.488   -0.044"
      ]
     },
     "execution_count": 164,
     "metadata": {},
     "output_type": "execute_result"
    }
   ],
   "source": [
    "pm.summary(trace_1, ['a', 'bA', 'bM'], kind='stats').round(3)"
   ]
  },
  {
   "cell_type": "code",
   "execution_count": 166,
   "metadata": {},
   "outputs": [
    {
     "name": "stderr",
     "output_type": "stream",
     "text": [
      "Auto-assigning NUTS sampler...\n",
      "Initializing NUTS using jitter+adapt_diag...\n",
      "Multiprocess sampling (2 chains in 2 jobs)\n",
      "NUTS: [sigma, bS, bA, a]\n",
      "Sampling 2 chains, 0 divergences: 100%|██████████| 4000/4000 [00:03<00:00, 1193.33draws/s]\n"
     ]
    }
   ],
   "source": [
    "with pm.Model() as model_2:\n",
    "    a = pm.Normal('a', mu=1, sd=0.1)\n",
    "    bA = pm.Normal('bA', mu=0, sd=0.3)\n",
    "    bS = pm.Normal('bS', mu=0, sd=0.3)\n",
    "    sigma = pm.Exponential('sigma', 1)\n",
    "    mu = pm.Deterministic(\n",
    "        'mu', a + bA * d['area.log.cent'] + bS * d['sd.growing.season.cent'])\n",
    "    y = pm.Normal('y', mu, sigma, observed=d['lang.per.cap.log.cent'])\n",
    "    trace_2 = pm.sample(1000, tune=1000)"
   ]
  },
  {
   "cell_type": "code",
   "execution_count": 167,
   "metadata": {},
   "outputs": [
    {
     "data": {
      "text/html": [
       "<div>\n",
       "<style scoped>\n",
       "    .dataframe tbody tr th:only-of-type {\n",
       "        vertical-align: middle;\n",
       "    }\n",
       "\n",
       "    .dataframe tbody tr th {\n",
       "        vertical-align: top;\n",
       "    }\n",
       "\n",
       "    .dataframe thead th {\n",
       "        text-align: right;\n",
       "    }\n",
       "</style>\n",
       "<table border=\"1\" class=\"dataframe\">\n",
       "  <thead>\n",
       "    <tr style=\"text-align: right;\">\n",
       "      <th></th>\n",
       "      <th>mean</th>\n",
       "      <th>sd</th>\n",
       "      <th>hpd_3%</th>\n",
       "      <th>hpd_97%</th>\n",
       "    </tr>\n",
       "  </thead>\n",
       "  <tbody>\n",
       "    <tr>\n",
       "      <th>a</th>\n",
       "      <td>1.000</td>\n",
       "      <td>0.031</td>\n",
       "      <td>0.940</td>\n",
       "      <td>1.056</td>\n",
       "    </tr>\n",
       "    <tr>\n",
       "      <th>bA</th>\n",
       "      <td>0.236</td>\n",
       "      <td>0.155</td>\n",
       "      <td>-0.079</td>\n",
       "      <td>0.512</td>\n",
       "    </tr>\n",
       "    <tr>\n",
       "      <th>bS</th>\n",
       "      <td>0.194</td>\n",
       "      <td>0.170</td>\n",
       "      <td>-0.155</td>\n",
       "      <td>0.502</td>\n",
       "    </tr>\n",
       "  </tbody>\n",
       "</table>\n",
       "</div>"
      ],
      "text/plain": [
       "     mean     sd  hpd_3%  hpd_97%\n",
       "a   1.000  0.031   0.940    1.056\n",
       "bA  0.236  0.155  -0.079    0.512\n",
       "bS  0.194  0.170  -0.155    0.502"
      ]
     },
     "execution_count": 167,
     "metadata": {},
     "output_type": "execute_result"
    }
   ],
   "source": [
    "pm.summary(trace_2, ['a', 'bA', 'bS'], kind='stats').round(3)"
   ]
  },
  {
   "cell_type": "code",
   "execution_count": 173,
   "metadata": {},
   "outputs": [
    {
     "name": "stderr",
     "output_type": "stream",
     "text": [
      "Auto-assigning NUTS sampler...\n",
      "Initializing NUTS using jitter+adapt_diag...\n",
      "Multiprocess sampling (2 chains in 2 jobs)\n",
      "NUTS: [sigma, bS, bM, bA, a]\n",
      "Sampling 2 chains, 0 divergences: 100%|██████████| 4000/4000 [00:03<00:00, 1177.48draws/s]\n"
     ]
    }
   ],
   "source": [
    "with pm.Model() as model_3:\n",
    "    a = pm.Normal('a', mu=1, sd=0.1)\n",
    "    bA = pm.Normal('bA', mu=0, sd=0.3)\n",
    "    bM = pm.Normal('bM', mu=0, sd=0.3)\n",
    "    bS = pm.Normal('bS', mu=0, sd=0.3)\n",
    "    sigma = pm.Exponential('sigma', 1)\n",
    "    mu = pm.Deterministic(\n",
    "        'mu', a + bA * d['area.log.cent'] +\n",
    "        bM * d['mean.growing.season.cent'] + bS * d['sd.growing.season.cent'])\n",
    "    y = pm.Normal('y', mu, sigma, observed=d['lang.per.cap.log.cent'])\n",
    "    trace_3 = pm.sample(1000, tune=1000)"
   ]
  },
  {
   "cell_type": "code",
   "execution_count": 175,
   "metadata": {},
   "outputs": [
    {
     "data": {
      "text/html": [
       "<div>\n",
       "<style scoped>\n",
       "    .dataframe tbody tr th:only-of-type {\n",
       "        vertical-align: middle;\n",
       "    }\n",
       "\n",
       "    .dataframe tbody tr th {\n",
       "        vertical-align: top;\n",
       "    }\n",
       "\n",
       "    .dataframe thead th {\n",
       "        text-align: right;\n",
       "    }\n",
       "</style>\n",
       "<table border=\"1\" class=\"dataframe\">\n",
       "  <thead>\n",
       "    <tr style=\"text-align: right;\">\n",
       "      <th></th>\n",
       "      <th>mean</th>\n",
       "      <th>sd</th>\n",
       "      <th>hpd_3%</th>\n",
       "      <th>hpd_97%</th>\n",
       "    </tr>\n",
       "  </thead>\n",
       "  <tbody>\n",
       "    <tr>\n",
       "      <th>a</th>\n",
       "      <td>1.000</td>\n",
       "      <td>0.029</td>\n",
       "      <td>0.945</td>\n",
       "      <td>1.056</td>\n",
       "    </tr>\n",
       "    <tr>\n",
       "      <th>bA</th>\n",
       "      <td>0.087</td>\n",
       "      <td>0.163</td>\n",
       "      <td>-0.211</td>\n",
       "      <td>0.403</td>\n",
       "    </tr>\n",
       "    <tr>\n",
       "      <th>bM</th>\n",
       "      <td>-0.319</td>\n",
       "      <td>0.117</td>\n",
       "      <td>-0.534</td>\n",
       "      <td>-0.090</td>\n",
       "    </tr>\n",
       "    <tr>\n",
       "      <th>bS</th>\n",
       "      <td>0.267</td>\n",
       "      <td>0.163</td>\n",
       "      <td>-0.013</td>\n",
       "      <td>0.601</td>\n",
       "    </tr>\n",
       "  </tbody>\n",
       "</table>\n",
       "</div>"
      ],
      "text/plain": [
       "     mean     sd  hpd_3%  hpd_97%\n",
       "a   1.000  0.029   0.945    1.056\n",
       "bA  0.087  0.163  -0.211    0.403\n",
       "bM -0.319  0.117  -0.534   -0.090\n",
       "bS  0.267  0.163  -0.013    0.601"
      ]
     },
     "execution_count": 175,
     "metadata": {},
     "output_type": "execute_result"
    }
   ],
   "source": [
    "pm.summary(trace_3, ['a', 'bA', 'bM', 'bS'], kind='stats').round(3)"
   ]
  },
  {
   "cell_type": "code",
   "execution_count": 179,
   "metadata": {},
   "outputs": [
    {
     "name": "stderr",
     "output_type": "stream",
     "text": [
      "Auto-assigning NUTS sampler...\n",
      "Initializing NUTS using jitter+adapt_diag...\n",
      "Multiprocess sampling (2 chains in 2 jobs)\n",
      "NUTS: [sigma, bMS, bS, bM, bA, a]\n",
      "Sampling 2 chains, 0 divergences: 100%|██████████| 4000/4000 [00:04<00:00, 990.07draws/s] \n"
     ]
    }
   ],
   "source": [
    "with pm.Model() as model_4:\n",
    "    a = pm.Normal('a', mu=1, sd=0.1)\n",
    "    bA = pm.Normal('bA', mu=0, sd=0.3)\n",
    "    bM = pm.Normal('bM', mu=0, sd=0.3)\n",
    "    bS = pm.Normal('bS', mu=0, sd=0.3)\n",
    "    bMS = pm.Normal('bMS', mu=0, sd=0.3)\n",
    "    sigma = pm.Exponential('sigma', 1)\n",
    "    mu = pm.Deterministic(\n",
    "        'mu', a + bA * d['area.log.cent'] +\n",
    "        bM * d['mean.growing.season.cent'] + bS * d['sd.growing.season.cent'] +\n",
    "        bMS * d['mean.growing.season.cent'] * d['sd.growing.season.cent'])\n",
    "    y = pm.Normal('y', mu, sigma, observed=d['lang.per.cap.log.cent'])\n",
    "    trace_4 = pm.sample(1000, tune=1000)"
   ]
  },
  {
   "cell_type": "code",
   "execution_count": 171,
   "metadata": {},
   "outputs": [
    {
     "data": {
      "text/html": [
       "<div>\n",
       "<style scoped>\n",
       "    .dataframe tbody tr th:only-of-type {\n",
       "        vertical-align: middle;\n",
       "    }\n",
       "\n",
       "    .dataframe tbody tr th {\n",
       "        vertical-align: top;\n",
       "    }\n",
       "\n",
       "    .dataframe thead th {\n",
       "        text-align: right;\n",
       "    }\n",
       "</style>\n",
       "<table border=\"1\" class=\"dataframe\">\n",
       "  <thead>\n",
       "    <tr style=\"text-align: right;\">\n",
       "      <th></th>\n",
       "      <th>mean</th>\n",
       "      <th>sd</th>\n",
       "      <th>hpd_3%</th>\n",
       "      <th>hpd_97%</th>\n",
       "    </tr>\n",
       "  </thead>\n",
       "  <tbody>\n",
       "    <tr>\n",
       "      <th>a</th>\n",
       "      <td>1.001</td>\n",
       "      <td>0.029</td>\n",
       "      <td>0.948</td>\n",
       "      <td>1.056</td>\n",
       "    </tr>\n",
       "    <tr>\n",
       "      <th>bA</th>\n",
       "      <td>0.075</td>\n",
       "      <td>0.158</td>\n",
       "      <td>-0.226</td>\n",
       "      <td>0.363</td>\n",
       "    </tr>\n",
       "    <tr>\n",
       "      <th>bM</th>\n",
       "      <td>-0.293</td>\n",
       "      <td>0.117</td>\n",
       "      <td>-0.522</td>\n",
       "      <td>-0.077</td>\n",
       "    </tr>\n",
       "    <tr>\n",
       "      <th>bS</th>\n",
       "      <td>0.270</td>\n",
       "      <td>0.162</td>\n",
       "      <td>-0.037</td>\n",
       "      <td>0.563</td>\n",
       "    </tr>\n",
       "    <tr>\n",
       "      <th>bMS</th>\n",
       "      <td>0.280</td>\n",
       "      <td>0.276</td>\n",
       "      <td>-0.225</td>\n",
       "      <td>0.795</td>\n",
       "    </tr>\n",
       "  </tbody>\n",
       "</table>\n",
       "</div>"
      ],
      "text/plain": [
       "      mean     sd  hpd_3%  hpd_97%\n",
       "a    1.001  0.029   0.948    1.056\n",
       "bA   0.075  0.158  -0.226    0.363\n",
       "bM  -0.293  0.117  -0.522   -0.077\n",
       "bS   0.270  0.162  -0.037    0.563\n",
       "bMS  0.280  0.276  -0.225    0.795"
      ]
     },
     "execution_count": 171,
     "metadata": {},
     "output_type": "execute_result"
    }
   ],
   "source": [
    "pm.summary(trace_4, ['a', 'bA', 'bM', 'bS', 'bMS'], kind='stats').round(3)"
   ]
  },
  {
   "cell_type": "markdown",
   "metadata": {},
   "source": [
    "### Compare WAIC"
   ]
  },
  {
   "cell_type": "code",
   "execution_count": 187,
   "metadata": {},
   "outputs": [
    {
     "name": "stderr",
     "output_type": "stream",
     "text": [
      "/Users/kani/Documents/KatrinaLand/explain-the-mark-experimentation/venv/lib/python3.7/site-packages/arviz/stats/stats.py:1196: UserWarning: For one or more samples the posterior variance of the log predictive densities exceeds 0.4. This could be indication of WAIC starting to fail. \n",
      "See http://arxiv.org/abs/1507.04544 for details\n",
      "  \"For one or more samples the posterior variance of the log predictive \"\n"
     ]
    },
    {
     "data": {
      "text/html": [
       "<div>\n",
       "<style scoped>\n",
       "    .dataframe tbody tr th:only-of-type {\n",
       "        vertical-align: middle;\n",
       "    }\n",
       "\n",
       "    .dataframe tbody tr th {\n",
       "        vertical-align: top;\n",
       "    }\n",
       "\n",
       "    .dataframe thead th {\n",
       "        text-align: right;\n",
       "    }\n",
       "</style>\n",
       "<table border=\"1\" class=\"dataframe\">\n",
       "  <thead>\n",
       "    <tr style=\"text-align: right;\">\n",
       "      <th></th>\n",
       "      <th>rank</th>\n",
       "      <th>waic</th>\n",
       "      <th>p_waic</th>\n",
       "      <th>d_waic</th>\n",
       "      <th>weight</th>\n",
       "      <th>se</th>\n",
       "      <th>dse</th>\n",
       "      <th>warning</th>\n",
       "      <th>waic_scale</th>\n",
       "    </tr>\n",
       "  </thead>\n",
       "  <tbody>\n",
       "    <tr>\n",
       "      <th>mean * st</th>\n",
       "      <td>0</td>\n",
       "      <td>12.2953</td>\n",
       "      <td>4.88766</td>\n",
       "      <td>0</td>\n",
       "      <td>0.541252</td>\n",
       "      <td>15.7126</td>\n",
       "      <td>0</td>\n",
       "      <td>True</td>\n",
       "      <td>deviance</td>\n",
       "    </tr>\n",
       "    <tr>\n",
       "      <th>mean + st</th>\n",
       "      <td>1</td>\n",
       "      <td>13.5814</td>\n",
       "      <td>4.61546</td>\n",
       "      <td>1.2861</td>\n",
       "      <td>0.284368</td>\n",
       "      <td>14.6646</td>\n",
       "      <td>0.845983</td>\n",
       "      <td>True</td>\n",
       "      <td>deviance</td>\n",
       "    </tr>\n",
       "    <tr>\n",
       "      <th>mean</th>\n",
       "      <td>2</td>\n",
       "      <td>15.547</td>\n",
       "      <td>3.97499</td>\n",
       "      <td>3.2517</td>\n",
       "      <td>0.147597</td>\n",
       "      <td>14.8167</td>\n",
       "      <td>2.42518</td>\n",
       "      <td>True</td>\n",
       "      <td>deviance</td>\n",
       "    </tr>\n",
       "    <tr>\n",
       "      <th>sd</th>\n",
       "      <td>3</td>\n",
       "      <td>21.1491</td>\n",
       "      <td>4.30781</td>\n",
       "      <td>8.85381</td>\n",
       "      <td>0.0267829</td>\n",
       "      <td>14.5307</td>\n",
       "      <td>3.98314</td>\n",
       "      <td>True</td>\n",
       "      <td>deviance</td>\n",
       "    </tr>\n",
       "  </tbody>\n",
       "</table>\n",
       "</div>"
      ],
      "text/plain": [
       "          rank     waic   p_waic   d_waic     weight       se       dse  \\\n",
       "mean * st    0  12.2953  4.88766        0   0.541252  15.7126         0   \n",
       "mean + st    1  13.5814  4.61546   1.2861   0.284368  14.6646  0.845983   \n",
       "mean         2   15.547  3.97499   3.2517   0.147597  14.8167   2.42518   \n",
       "sd           3  21.1491  4.30781  8.85381  0.0267829  14.5307   3.98314   \n",
       "\n",
       "          warning waic_scale  \n",
       "mean * st    True   deviance  \n",
       "mean + st    True   deviance  \n",
       "mean         True   deviance  \n",
       "sd           True   deviance  "
      ]
     },
     "execution_count": 187,
     "metadata": {},
     "output_type": "execute_result"
    }
   ],
   "source": [
    "comp_df = pm.compare({'mean': trace_1, 'sd': trace_2, 'mean + st': trace_3, 'mean * st': trace_4})\n",
    "comp_df"
   ]
  },
  {
   "cell_type": "markdown",
   "metadata": {},
   "source": [
    "### Plot posterior with interaction"
   ]
  },
  {
   "cell_type": "code",
   "execution_count": 172,
   "metadata": {},
   "outputs": [
    {
     "data": {
      "text/plain": [
       "<matplotlib.axes._subplots.AxesSubplot at 0x11d426390>"
      ]
     },
     "execution_count": 172,
     "metadata": {},
     "output_type": "execute_result"
    },
    {
     "data": {
      "image/png": "[encoded data removed]",
      "text/plain": [
       "<Figure size 432x288 with 1 Axes>"
      ]
     },
     "metadata": {
      "needs_background": "light"
     },
     "output_type": "display_data"
    }
   ],
   "source": [
    "d['mean.growing.season.cent'].hist()"
   ]
  },
  {
   "cell_type": "code",
   "execution_count": 177,
   "metadata": {},
   "outputs": [
    {
     "data": {
      "text/plain": [
       "<matplotlib.axes._subplots.AxesSubplot at 0x11fbdb110>"
      ]
     },
     "execution_count": 177,
     "metadata": {},
     "output_type": "execute_result"
    },
    {
     "data": {
      "image/png": "[encoded data removed]",
      "text/plain": [
       "<Figure size 432x288 with 1 Axes>"
      ]
     },
     "metadata": {
      "needs_background": "light"
     },
     "output_type": "display_data"
    }
   ],
   "source": [
    "d['sd.growing.season.cent'].hist()"
   ]
  },
  {
   "cell_type": "code",
   "execution_count": 186,
   "metadata": {},
   "outputs": [
    {
     "data": {
      "image/png": "[encoded data removed]",
      "text/plain": [
       "<Figure size 864x216 with 3 Axes>"
      ]
     },
     "metadata": {
      "needs_background": "light"
     },
     "output_type": "display_data"
    }
   ],
   "source": [
    "seq_s = np.linspace(-0.3, 0.7, 25)\n",
    "f, axs = plt.subplots(1, 3, sharey=True, figsize=(12, 3))\n",
    "\n",
    "for ax, m in zip(axs.flat, [-0.4, 0, 0.4]):\n",
    "    mu = np.apply_along_axis(lambda x: trace_4['a'] + trace_4['bM'] * m +\n",
    "                             trace_4['bS'] * x + trace_4['bMS'] * m * x,\n",
    "                             axis=1,\n",
    "                             arr=seq_s[:, np.newaxis])\n",
    "    mu_mean = mu.mean(1)\n",
    "    mu_PI = np.quantile(mu, [0.055, 0.945], axis=1)\n",
    "    ax.plot(seq_s, mu_mean, 'k')\n",
    "    ax.plot(seq_s, mu_PI[0], 'k--')\n",
    "    ax.plot(seq_s, mu_PI[1], 'k--')\n",
    "    ax.set_ylabel('area.log')\n",
    "    ax.set_xlabel('sd.growing.season')\n",
    "    ax.set_title(f'mean.growing.season = {m}')"
   ]
  },
  {
   "cell_type": "markdown",
   "metadata": {},
   "source": [
    "The idea is that, in nations with longer average growing seasons, high variance makes storage and redistribution even more important than it would be otherwise."
   ]
  },
  {
   "cell_type": "code",
   "execution_count": null,
   "metadata": {},
   "outputs": [],
   "source": []
  }
 ],
 "metadata": {
  "kernelspec": {
   "display_name": "Python 3.7.4 64-bit ('venv': virtualenv)",
   "language": "python",
   "name": "python37464bitvenvvirtualenv4979dbaf71e8481d82319a1446a9a460"
  },
  "language_info": {
   "codemirror_mode": {
    "name": "ipython",
    "version": 3
   },
   "file_extension": ".py",
   "mimetype": "text/x-python",
   "name": "python",
   "nbconvert_exporter": "python",
   "pygments_lexer": "ipython3",
   "version": "3.7.4-final"
  },
  "toc": {
   "base_numbering": 1,
   "nav_menu": {},
   "number_sections": false,
   "sideBar": true,
   "skip_h1_title": false,
   "title_cell": "Table of Contents",
   "title_sidebar": "Contents",
   "toc_cell": false,
   "toc_position": {},
   "toc_section_display": true,
   "toc_window_display": true
  }
 },
 "nbformat": 4,
 "nbformat_minor": 4
}